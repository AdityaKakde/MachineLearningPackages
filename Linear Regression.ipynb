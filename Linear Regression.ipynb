{
 "cells": [
  {
   "cell_type": "code",
   "execution_count": 2,
   "metadata": {},
   "outputs": [],
   "source": [
    "import pandas as pd\n",
    "import numpy as np\n",
    "import math\n",
    "import matplotlib.pyplot as plt\n",
    "from tqdm import tqdm\n",
    "from sklearn.model_selection import train_test_split"
   ]
  },
  {
   "cell_type": "code",
   "execution_count": 12,
   "metadata": {},
   "outputs": [],
   "source": [
    "class LinearRegression:\n",
    "    \n",
    "    def __init__(self, X, y, learningRate, maxIter, epsilon,  \n",
    "                 regularization = False, regularizationRate=0, batch=10, optimizer = 'GD',error='SSE') -> None:\n",
    "        self.X = X\n",
    "        self.y = y\n",
    "        self.learningRate = learningRate\n",
    "        self.maxIter = maxIter\n",
    "        self.epsilon = epsilon\n",
    "        self.error = error\n",
    "        self.regularization = regularization\n",
    "        self.regularizationRate = regularizationRate\n",
    "        self.batch = batch\n",
    "        self.optimizer = optimizer\n",
    "    \n",
    "    def split_data(self):\n",
    "        train_X, train_y, test_X, test_y = train_test_split(self.X, self.y, test_size=0.3, shuffle=True)\n",
    "        return train_X, train_y, test_X, test_y\n",
    "    \n",
    "    def add_init_col(self, X):\n",
    "        return np.column_stack([np.ones([X.shape[0], 1]), X])\n",
    "    \n",
    "    def normalise(self, X):\n",
    "        mean = np.mean(X, 0)\n",
    "        std = np.std(X, 0)\n",
    "        X_norm = (X-mean)/std\n",
    "        X_norm = self.add_init_col(X_norm)\n",
    "        return X_norm, mean, std\n",
    "    \n",
    "    def normalizeTestData(self, X, train_mean, train_std):\n",
    "\n",
    "        X_norm = (X - train_mean) / train_std\n",
    "        X_norm = self.add_init_col(X_norm)\n",
    "        return X_norm\n",
    "    \n",
    "    def rank(self, X):\n",
    "        u, s, v = np.linalg.svd(X)\n",
    "        return len([x for x in s if x>0.0005])\n",
    "    \n",
    "    def full_rank(self, X):\n",
    "        rank = self.rank(X)\n",
    "        if rank == min(X.shape):\n",
    "            self.full_rank = True\n",
    "            print(\"Matrix is Full Rank\")\n",
    "        else:\n",
    "            self.full_rank = False\n",
    "            print(\"Matrix not Full Rank\")\n",
    "    \n",
    "    def check_lowRank(self, X):\n",
    "        if X.shape[0] < X.shape[1]:\n",
    "            self.check_lowRank = True\n",
    "            print(\"Matrix is Low Rank\")\n",
    "        else:\n",
    "            self.check_lowRank = False\n",
    "            print(\"Matrix is not Low Rank\")\n",
    "    \n",
    "    def closedFormSolution(self, X, y):\n",
    "        if self.regularization:\n",
    "            self.theta = np.linalg.inv((X.T.dot(X))+(self.regularizationRate *\n",
    "            np.identity(X.shape[1]))).dot(X.T).dot(y)\n",
    "        else:\n",
    "            self.theta = np.linalg.inv(X.T.dot(X)).dot(X.T).dot(y)\n",
    "        return self.theta\n",
    "    \n",
    "    def predict(self, X):\n",
    "        return X.dot(self.theta)\n",
    "    \n",
    "    def sse(self, X, y):\n",
    "        y_hat = self.predict(X)\n",
    "        return ((y_hat - y) ** 2).sum()\n",
    "    \n",
    "    def rmse(self, X, y):\n",
    "        return np.sqrt(((self.sse(X, y)).sum()) / X.shape[0])\n",
    "    \n",
    "    def cost_function(self, X, y):\n",
    "        return self.sse(X, y)/2\n",
    "    \n",
    "    def cost_derivative(self, X, y):\n",
    "        y_hat = self.predict(X)\n",
    "        return (y_hat - y).dot(X)\n",
    "    \n",
    "    def gradient_descent(self, X, y):\n",
    "        print('Using Gradient Descent')\n",
    "        errors = []\n",
    "        last_error =  float('inf')\n",
    "\n",
    "        if self.regularization:\n",
    "          print('Using Regularization')\n",
    "          for i in tqdm(range(self.maxIter)):\n",
    "            self.theta = self.theta - self.learningRate * (self.cost_derivative(X, y) + (self.regularizationRate + self.theta))\n",
    "          \n",
    "            if self.error == 'RMSE':\n",
    "                  current_error = self.rmse(X, y)\n",
    "            else:\n",
    "                  current_error = self.sse(X,y)\n",
    "            diff = last_error - current_error\n",
    "            last_error = current_error\n",
    "            errors.append(current_error)\n",
    "            if diff < self.epsilon:        \n",
    "                  print('Model has stopped learning')\n",
    "                  break\n",
    "\n",
    "        else:\n",
    "          print('Without Regularization')\n",
    "          for i in tqdm(range(self.maxIter)):\n",
    "            self.theta = self.theta - self.learningRate * self.cost_derivative(X, y)\n",
    "          \n",
    "            if self.error == 'RMSE':\n",
    "                  current_error = self.rmse(X, y)\n",
    "            else:\n",
    "                  current_error = self.sse(X,y)\n",
    "            diff = last_error - current_error\n",
    "            last_error = current_error\n",
    "            errors.append(current_error)\n",
    "            if diff < self.epsilon:        \n",
    "                  print('Model has stopped learning')\n",
    "                  break\n",
    "                       \n",
    "        self.plot_rmse(errors)\n",
    "    \n",
    "    def stochasticGradientDescent(self, X, y):\n",
    "        print('Using Stochastic Gradient Descent')\n",
    "        errors = []\n",
    "        last_error = float('inf')\n",
    "\n",
    "        if self.regularization:    \n",
    "            print('Using regularization')\n",
    "            for i in tqdm(range(self.maxIter)):\n",
    "                index = np.arange(X.shape[0])\n",
    "                np.random.shuffle(index)\n",
    "                X = X[index]\n",
    "                y = y[index]\n",
    "                X = X[0:self.batch]\n",
    "                y = y[0:self.batch]\n",
    "                self.theta = self.theta - self.learningRate * (self.cost_derivative(X, y) +\n",
    "                 (self.regularizationRate * self.theta))\n",
    "                if self.error == 'RMSE':\n",
    "                    current_error = self.rmse(X, y)\n",
    "                else:\n",
    "                    current_error = self.sse(X,y)\n",
    "                diff = last_error - current_error\n",
    "                last_error = current_error\n",
    "                errors.append(current_error)\n",
    "                if diff < self.epsilon:        \n",
    "                    print('Model has stopped learning')\n",
    "                    break\n",
    "\n",
    "        else:\n",
    "            print('Not using regularization')\n",
    "            for i in tqdm(range(self.maxIter)):\n",
    "                index = np.arange(X.shape[0])\n",
    "                np.random.shuffle(index)\n",
    "                X = X[index]\n",
    "                y = y[index]\n",
    "                X = X[0:self.batch]\n",
    "                y = y[0:self.batch]\n",
    "                self.theta = self.theta - self.learningRate * self.cost_derivative(X, y)\n",
    "                if self.error == 'RMSE':\n",
    "                    current_error = self.rmse(X, y)\n",
    "                else:\n",
    "                    current_error = self.sse(X,y)\n",
    "                diff = last_error - current_error\n",
    "                last_error = current_error\n",
    "                errors.append(current_error)\n",
    "                if diff < self.epsilon:        \n",
    "                    print('Model has stopped learning')\n",
    "                    break\n",
    "\n",
    "        self.plot_rmse(errors)\n",
    "\n",
    "    def plot_rmse(self, error_sequence):\n",
    "        \"\"\"\n",
    "        @X: error_sequence, vector of rmse\n",
    "        @does: Plots the error function\n",
    "        @return: plot\n",
    "        \"\"\"\n",
    "        # Data for plotting\n",
    "        s = np.array(error_sequence)\n",
    "        t = np.arange(s.size)\n",
    "\n",
    "        fig, ax = plt.subplots()\n",
    "        ax.plot(t, s)\n",
    "\n",
    "        ax.set(xlabel='iterations', ylabel=self.error,\n",
    "               title='{} trend'.format(self.error))\n",
    "        ax.grid()\n",
    "\n",
    "        plt.legend(bbox_to_anchor=(1.05,1), loc=2, shadow=True)\n",
    "        plt.show()    \n",
    "    \n",
    "\n",
    "    def fit(self):\n",
    "        X_train, X_test, y_train, y_test = self.split_data()\n",
    "        \n",
    "        X_train ,mean ,std = self.normalise(X_train)\n",
    "        X_test = self.normalizeTestData(X_test, mean, std)\n",
    "                \n",
    "        self.full_rank(X_train)\n",
    "        self.check_lowRank(X_train)\n",
    "        \n",
    "        \n",
    "        if (self.full_rank and not self.check_lowRank and self.optimizer=='Normal' and X_train.shape[0] < 10000):\n",
    "            print(\"Solving using Normal equation\")\n",
    "            self.w = self.closedFormSolution(X_train, y_train)\n",
    "            \n",
    "        else:\n",
    "\n",
    "            if self.optimizer == 'SGD':\n",
    "                print('Solving using stochastic gradient descent')\n",
    "                self.theta = np.ones(X_train.shape[1], dtype = np.float16)*0\n",
    "                self.stochasticGradientDescent(X_train, y_train)\n",
    "\n",
    "            else:\n",
    "                print('Solving using gradient descent')\n",
    "                self.theta = np.ones(X_train.shape[1], dtype = np.float16)*0\n",
    "                self.gradient_descent(X_train, y_train)\n",
    "            \n",
    "        print(self.theta)\n",
    "        print('SSE_test:', self.sse(X_test, y_test))\n",
    "        print('RMSE_test:', self.rmse(X_test, y_test))\n",
    "\n",
    "\n",
    "        \n"
   ]
  },
  {
   "cell_type": "markdown",
   "metadata": {},
   "source": [
    "### Housing Dataset "
   ]
  },
  {
   "cell_type": "code",
   "execution_count": 4,
   "metadata": {},
   "outputs": [],
   "source": [
    "df = pd.read_csv('housing.csv')\n",
    "X = df.values[:,:-1]\n",
    "y = df.values[:, -1]"
   ]
  },
  {
   "cell_type": "markdown",
   "metadata": {},
   "source": [
    "#### Using Closed Form Solution"
   ]
  },
  {
   "cell_type": "code",
   "execution_count": 31,
   "metadata": {},
   "outputs": [],
   "source": [
    "lr = LinearRegression(X, y, learningRate=0.0004, epsilon=0.005, maxIter=50000, regularization = True, regularizationRate=1, batch=100, optimizer = 'Normal', error='RMSE')"
   ]
  },
  {
   "cell_type": "code",
   "execution_count": 32,
   "metadata": {},
   "outputs": [
    {
     "name": "stdout",
     "output_type": "stream",
     "text": [
      "Matrix is Full Rank\n",
      "Matrix is not Low Rank\n",
      "Solving using Normal equation\n",
      "[10.19804651  1.25403444  0.11706623  0.72110034 -0.21254047 -0.16796592\n",
      " 11.70197204]\n",
      "SSE_test: 9401.85239834412\n",
      "RMSE_test: 10.05461024003263\n"
     ]
    }
   ],
   "source": [
    "lr.fit()"
   ]
  },
  {
   "cell_type": "markdown",
   "metadata": {},
   "source": [
    "#### Using Gradient Descend"
   ]
  },
  {
   "cell_type": "code",
   "execution_count": 33,
   "metadata": {},
   "outputs": [
    {
     "name": "stdout",
     "output_type": "stream",
     "text": [
      "Matrix is Full Rank\n",
      "Matrix is not Low Rank\n",
      "Solving using gradient descent\n",
      "Using Gradient Descent\n",
      "Using Regularization\n"
     ]
    },
    {
     "name": "stderr",
     "output_type": "stream",
     "text": [
      "  0%|          | 36/50000 [00:00<00:04, 11537.78it/s]\n",
      "No artists with labels found to put in legend.  Note that artists whose label start with an underscore are ignored when legend() is called with no argument.\n"
     ]
    },
    {
     "name": "stdout",
     "output_type": "stream",
     "text": [
      "Model has stopped learning\n"
     ]
    },
    {
     "data": {
      "image/png": "[encoded data removed]",
      "text/plain": [
       "<Figure size 432x288 with 1 Axes>"
      ]
     },
     "metadata": {
      "needs_background": "light"
     },
     "output_type": "display_data"
    },
    {
     "name": "stdout",
     "output_type": "stream",
     "text": [
      "[ 9.7752831   0.50165457 -0.33887626  0.1724297  -0.05397124 -0.14785668\n",
      " 11.79156599]\n",
      "SSE_test: 8249.791421479767\n",
      "RMSE_test: 9.418462435003253\n"
     ]
    }
   ],
   "source": [
    "lr = LinearRegression(X, y, learningRate=0.0004, epsilon=0.005, maxIter=50000, regularization = True, regularizationRate=1, batch=100, optimizer = 'GD', error='RMSE')\n",
    "lr.fit()"
   ]
  },
  {
   "cell_type": "markdown",
   "metadata": {},
   "source": [
    "#### Using Stochiastic Gradient Descend"
   ]
  },
  {
   "cell_type": "code",
   "execution_count": 34,
   "metadata": {},
   "outputs": [
    {
     "name": "stdout",
     "output_type": "stream",
     "text": [
      "Matrix is Full Rank\n",
      "Matrix is not Low Rank\n",
      "Solving using stochastic gradient descent\n",
      "Using Stochastic Gradient Descent\n",
      "Using regularization\n"
     ]
    },
    {
     "name": "stderr",
     "output_type": "stream",
     "text": [
      "  0%|          | 67/50000 [00:00<00:04, 10376.19it/s]\n",
      "No artists with labels found to put in legend.  Note that artists whose label start with an underscore are ignored when legend() is called with no argument.\n"
     ]
    },
    {
     "name": "stdout",
     "output_type": "stream",
     "text": [
      "Model has stopped learning\n"
     ]
    },
    {
     "data": {
      "image/png": "[encoded data removed]",
      "text/plain": [
       "<Figure size 432x288 with 1 Axes>"
      ]
     },
     "metadata": {
      "needs_background": "light"
     },
     "output_type": "display_data"
    },
    {
     "name": "stdout",
     "output_type": "stream",
     "text": [
      "[11.29972483  0.45505673 -1.67394843 -0.69759252 -0.43544    -1.03750007\n",
      " 13.67429077]\n",
      "SSE_test: 8077.983546547515\n",
      "RMSE_test: 9.319873289638627\n"
     ]
    }
   ],
   "source": [
    "lr = LinearRegression(X, y, learningRate=0.0004, epsilon=0.005, maxIter=50000, regularization = True, regularizationRate=1, batch=100, optimizer = 'SGD', error='RMSE')\n",
    "lr.fit()"
   ]
  },
  {
   "cell_type": "markdown",
   "metadata": {},
   "source": [
    "### Concrete Dataset"
   ]
  },
  {
   "cell_type": "code",
   "execution_count": 18,
   "metadata": {},
   "outputs": [],
   "source": [
    "df = pd.read_csv('concreteData.csv')\n",
    "X = df.values[:,0:-1]\n",
    "y = df.values[:, -1]"
   ]
  },
  {
   "cell_type": "code",
   "execution_count": 16,
   "metadata": {},
   "outputs": [
    {
     "data": {
      "text/html": [
       "<div>\n",
       "<style scoped>\n",
       "    .dataframe tbody tr th:only-of-type {\n",
       "        vertical-align: middle;\n",
       "    }\n",
       "\n",
       "    .dataframe tbody tr th {\n",
       "        vertical-align: top;\n",
       "    }\n",
       "\n",
       "    .dataframe thead th {\n",
       "        text-align: right;\n",
       "    }\n",
       "</style>\n",
       "<table border=\"1\" class=\"dataframe\">\n",
       "  <thead>\n",
       "    <tr style=\"text-align: right;\">\n",
       "      <th></th>\n",
       "      <th>540</th>\n",
       "      <th>0</th>\n",
       "      <th>0.1</th>\n",
       "      <th>162</th>\n",
       "      <th>2.5</th>\n",
       "      <th>1040</th>\n",
       "      <th>676</th>\n",
       "      <th>28</th>\n",
       "      <th>79.99</th>\n",
       "    </tr>\n",
       "  </thead>\n",
       "  <tbody>\n",
       "    <tr>\n",
       "      <th>0</th>\n",
       "      <td>540.0</td>\n",
       "      <td>0.0</td>\n",
       "      <td>0.0</td>\n",
       "      <td>162.0</td>\n",
       "      <td>2.5</td>\n",
       "      <td>1055.0</td>\n",
       "      <td>676.0</td>\n",
       "      <td>28</td>\n",
       "      <td>61.89</td>\n",
       "    </tr>\n",
       "    <tr>\n",
       "      <th>1</th>\n",
       "      <td>332.5</td>\n",
       "      <td>142.5</td>\n",
       "      <td>0.0</td>\n",
       "      <td>228.0</td>\n",
       "      <td>0.0</td>\n",
       "      <td>932.0</td>\n",
       "      <td>594.0</td>\n",
       "      <td>270</td>\n",
       "      <td>40.27</td>\n",
       "    </tr>\n",
       "    <tr>\n",
       "      <th>2</th>\n",
       "      <td>332.5</td>\n",
       "      <td>142.5</td>\n",
       "      <td>0.0</td>\n",
       "      <td>228.0</td>\n",
       "      <td>0.0</td>\n",
       "      <td>932.0</td>\n",
       "      <td>594.0</td>\n",
       "      <td>365</td>\n",
       "      <td>41.05</td>\n",
       "    </tr>\n",
       "    <tr>\n",
       "      <th>3</th>\n",
       "      <td>198.6</td>\n",
       "      <td>132.4</td>\n",
       "      <td>0.0</td>\n",
       "      <td>192.0</td>\n",
       "      <td>0.0</td>\n",
       "      <td>978.4</td>\n",
       "      <td>825.5</td>\n",
       "      <td>360</td>\n",
       "      <td>44.30</td>\n",
       "    </tr>\n",
       "    <tr>\n",
       "      <th>4</th>\n",
       "      <td>266.0</td>\n",
       "      <td>114.0</td>\n",
       "      <td>0.0</td>\n",
       "      <td>228.0</td>\n",
       "      <td>0.0</td>\n",
       "      <td>932.0</td>\n",
       "      <td>670.0</td>\n",
       "      <td>90</td>\n",
       "      <td>47.03</td>\n",
       "    </tr>\n",
       "    <tr>\n",
       "      <th>...</th>\n",
       "      <td>...</td>\n",
       "      <td>...</td>\n",
       "      <td>...</td>\n",
       "      <td>...</td>\n",
       "      <td>...</td>\n",
       "      <td>...</td>\n",
       "      <td>...</td>\n",
       "      <td>...</td>\n",
       "      <td>...</td>\n",
       "    </tr>\n",
       "    <tr>\n",
       "      <th>1024</th>\n",
       "      <td>276.4</td>\n",
       "      <td>116.0</td>\n",
       "      <td>90.3</td>\n",
       "      <td>179.6</td>\n",
       "      <td>8.9</td>\n",
       "      <td>870.1</td>\n",
       "      <td>768.3</td>\n",
       "      <td>28</td>\n",
       "      <td>44.28</td>\n",
       "    </tr>\n",
       "    <tr>\n",
       "      <th>1025</th>\n",
       "      <td>322.2</td>\n",
       "      <td>0.0</td>\n",
       "      <td>115.6</td>\n",
       "      <td>196.0</td>\n",
       "      <td>10.4</td>\n",
       "      <td>817.9</td>\n",
       "      <td>813.4</td>\n",
       "      <td>28</td>\n",
       "      <td>31.18</td>\n",
       "    </tr>\n",
       "    <tr>\n",
       "      <th>1026</th>\n",
       "      <td>148.5</td>\n",
       "      <td>139.4</td>\n",
       "      <td>108.6</td>\n",
       "      <td>192.7</td>\n",
       "      <td>6.1</td>\n",
       "      <td>892.4</td>\n",
       "      <td>780.0</td>\n",
       "      <td>28</td>\n",
       "      <td>23.70</td>\n",
       "    </tr>\n",
       "    <tr>\n",
       "      <th>1027</th>\n",
       "      <td>159.1</td>\n",
       "      <td>186.7</td>\n",
       "      <td>0.0</td>\n",
       "      <td>175.6</td>\n",
       "      <td>11.3</td>\n",
       "      <td>989.6</td>\n",
       "      <td>788.9</td>\n",
       "      <td>28</td>\n",
       "      <td>32.77</td>\n",
       "    </tr>\n",
       "    <tr>\n",
       "      <th>1028</th>\n",
       "      <td>260.9</td>\n",
       "      <td>100.5</td>\n",
       "      <td>78.3</td>\n",
       "      <td>200.6</td>\n",
       "      <td>8.6</td>\n",
       "      <td>864.5</td>\n",
       "      <td>761.5</td>\n",
       "      <td>28</td>\n",
       "      <td>32.40</td>\n",
       "    </tr>\n",
       "  </tbody>\n",
       "</table>\n",
       "<p>1029 rows × 9 columns</p>\n",
       "</div>"
      ],
      "text/plain": [
       "        540      0    0.1    162   2.5    1040    676   28  79.99\n",
       "0     540.0    0.0    0.0  162.0   2.5  1055.0  676.0   28  61.89\n",
       "1     332.5  142.5    0.0  228.0   0.0   932.0  594.0  270  40.27\n",
       "2     332.5  142.5    0.0  228.0   0.0   932.0  594.0  365  41.05\n",
       "3     198.6  132.4    0.0  192.0   0.0   978.4  825.5  360  44.30\n",
       "4     266.0  114.0    0.0  228.0   0.0   932.0  670.0   90  47.03\n",
       "...     ...    ...    ...    ...   ...     ...    ...  ...    ...\n",
       "1024  276.4  116.0   90.3  179.6   8.9   870.1  768.3   28  44.28\n",
       "1025  322.2    0.0  115.6  196.0  10.4   817.9  813.4   28  31.18\n",
       "1026  148.5  139.4  108.6  192.7   6.1   892.4  780.0   28  23.70\n",
       "1027  159.1  186.7    0.0  175.6  11.3   989.6  788.9   28  32.77\n",
       "1028  260.9  100.5   78.3  200.6   8.6   864.5  761.5   28  32.40\n",
       "\n",
       "[1029 rows x 9 columns]"
      ]
     },
     "execution_count": 16,
     "metadata": {},
     "output_type": "execute_result"
    }
   ],
   "source": [
    "df"
   ]
  },
  {
   "cell_type": "markdown",
   "metadata": {},
   "source": [
    "#### Closed Form Solution"
   ]
  },
  {
   "cell_type": "code",
   "execution_count": 44,
   "metadata": {},
   "outputs": [
    {
     "name": "stdout",
     "output_type": "stream",
     "text": [
      "Matrix is Full Rank\n",
      "Matrix is not Low Rank\n",
      "Solving using Normal equation\n",
      "[11.09725581  0.36778835 -0.66885967 -0.22074568  0.25002501 -0.2655848\n",
      " 12.3158161 ]\n",
      "SSE_test: 6633.316338333896\n",
      "RMSE_test: 8.445471101875995\n"
     ]
    }
   ],
   "source": [
    "lr = LinearRegression(X, y, learningRate=0.007, epsilon=0.001, maxIter=50000, regularization = True, regularizationRate=1, batch=100, optimizer = 'Normal', error='RMSE')\n",
    "lr.fit()"
   ]
  },
  {
   "cell_type": "markdown",
   "metadata": {},
   "source": [
    "#### Using Gradient Descend"
   ]
  },
  {
   "cell_type": "code",
   "execution_count": 45,
   "metadata": {},
   "outputs": [
    {
     "name": "stdout",
     "output_type": "stream",
     "text": [
      "Matrix is Full Rank\n",
      "Matrix is not Low Rank\n",
      "Solving using gradient descent\n",
      "Using Gradient Descent\n",
      "Using Regularization\n"
     ]
    },
    {
     "name": "stderr",
     "output_type": "stream",
     "text": [
      "  0%|          | 3/50000 [00:00<00:23, 2121.91it/s]\n",
      "No artists with labels found to put in legend.  Note that artists whose label start with an underscore are ignored when legend() is called with no argument.\n"
     ]
    },
    {
     "name": "stdout",
     "output_type": "stream",
     "text": [
      "Model has stopped learning\n"
     ]
    },
    {
     "data": {
      "image/png": "[encoded data removed]",
      "text/plain": [
       "<Figure size 432x288 with 1 Axes>"
      ]
     },
     "metadata": {
      "needs_background": "light"
     },
     "output_type": "display_data"
    },
    {
     "name": "stdout",
     "output_type": "stream",
     "text": [
      "[ 9.72217234 -0.57958915  0.91658524  1.15634865  1.59665931 -0.05169301\n",
      " 11.16131176]\n",
      "SSE_test: 7967.343234037925\n",
      "RMSE_test: 9.255828291149664\n"
     ]
    }
   ],
   "source": [
    "lr = LinearRegression(X, y, learningRate=0.007, epsilon=0.001, maxIter=50000, regularization = True, regularizationRate=1, batch=100, optimizer = 'GD', error='RMSE')\n",
    "lr.fit()"
   ]
  },
  {
   "cell_type": "markdown",
   "metadata": {},
   "source": [
    "#### Using Stochiastic Gradient Descend "
   ]
  },
  {
   "cell_type": "code",
   "execution_count": 46,
   "metadata": {},
   "outputs": [
    {
     "name": "stdout",
     "output_type": "stream",
     "text": [
      "Matrix is Full Rank\n",
      "Matrix is not Low Rank\n",
      "Solving using stochastic gradient descent\n",
      "Using Stochastic Gradient Descent\n",
      "Using regularization\n"
     ]
    },
    {
     "name": "stderr",
     "output_type": "stream",
     "text": [
      "  0%|          | 0/50000 [00:00<?, ?it/s]"
     ]
    },
    {
     "name": "stderr",
     "output_type": "stream",
     "text": [
      "  0%|          | 6/50000 [00:00<00:20, 2483.55it/s]\n",
      "No artists with labels found to put in legend.  Note that artists whose label start with an underscore are ignored when legend() is called with no argument.\n"
     ]
    },
    {
     "name": "stdout",
     "output_type": "stream",
     "text": [
      "Model has stopped learning\n"
     ]
    },
    {
     "data": {
      "image/png": "[encoded data removed]",
      "text/plain": [
       "<Figure size 432x288 with 1 Axes>"
      ]
     },
     "metadata": {
      "needs_background": "light"
     },
     "output_type": "display_data"
    },
    {
     "name": "stdout",
     "output_type": "stream",
     "text": [
      "[ 9.706268    0.74642809  0.66633829 -0.1797892  -0.46737765  0.46463833\n",
      " 11.37877217]\n",
      "SSE_test: 7110.588489414539\n",
      "RMSE_test: 8.744023144205011\n"
     ]
    }
   ],
   "source": [
    "lr = LinearRegression(X, y, learningRate=0.007, epsilon=0.001, maxIter=50000, regularization = True, regularizationRate=1, batch=100, optimizer = 'SGD', error='RMSE')\n",
    "lr.fit()"
   ]
  },
  {
   "cell_type": "markdown",
   "metadata": {},
   "source": [
    "### Yatch Dataset"
   ]
  },
  {
   "cell_type": "code",
   "execution_count": 26,
   "metadata": {},
   "outputs": [],
   "source": [
    "df = pd.read_csv('yachtData.csv')\n",
    "X = df.values[:, 0:-1]\n",
    "y = df.values[:, -1]"
   ]
  },
  {
   "cell_type": "code",
   "execution_count": 27,
   "metadata": {},
   "outputs": [
    {
     "data": {
      "text/html": [
       "<div>\n",
       "<style scoped>\n",
       "    .dataframe tbody tr th:only-of-type {\n",
       "        vertical-align: middle;\n",
       "    }\n",
       "\n",
       "    .dataframe tbody tr th {\n",
       "        vertical-align: top;\n",
       "    }\n",
       "\n",
       "    .dataframe thead th {\n",
       "        text-align: right;\n",
       "    }\n",
       "</style>\n",
       "<table border=\"1\" class=\"dataframe\">\n",
       "  <thead>\n",
       "    <tr style=\"text-align: right;\">\n",
       "      <th></th>\n",
       "      <th>-2.3</th>\n",
       "      <th>0.568</th>\n",
       "      <th>4.78</th>\n",
       "      <th>3.99</th>\n",
       "      <th>3.17</th>\n",
       "      <th>0.125</th>\n",
       "      <th>0.11</th>\n",
       "    </tr>\n",
       "  </thead>\n",
       "  <tbody>\n",
       "    <tr>\n",
       "      <th>0</th>\n",
       "      <td>-2.3</td>\n",
       "      <td>0.568</td>\n",
       "      <td>4.78</td>\n",
       "      <td>3.99</td>\n",
       "      <td>3.17</td>\n",
       "      <td>0.150</td>\n",
       "      <td>0.27</td>\n",
       "    </tr>\n",
       "    <tr>\n",
       "      <th>1</th>\n",
       "      <td>-2.3</td>\n",
       "      <td>0.568</td>\n",
       "      <td>4.78</td>\n",
       "      <td>3.99</td>\n",
       "      <td>3.17</td>\n",
       "      <td>0.175</td>\n",
       "      <td>0.47</td>\n",
       "    </tr>\n",
       "    <tr>\n",
       "      <th>2</th>\n",
       "      <td>-2.3</td>\n",
       "      <td>0.568</td>\n",
       "      <td>4.78</td>\n",
       "      <td>3.99</td>\n",
       "      <td>3.17</td>\n",
       "      <td>0.200</td>\n",
       "      <td>0.78</td>\n",
       "    </tr>\n",
       "    <tr>\n",
       "      <th>3</th>\n",
       "      <td>-2.3</td>\n",
       "      <td>0.568</td>\n",
       "      <td>4.78</td>\n",
       "      <td>3.99</td>\n",
       "      <td>3.17</td>\n",
       "      <td>0.225</td>\n",
       "      <td>1.18</td>\n",
       "    </tr>\n",
       "    <tr>\n",
       "      <th>4</th>\n",
       "      <td>-2.3</td>\n",
       "      <td>0.568</td>\n",
       "      <td>4.78</td>\n",
       "      <td>3.99</td>\n",
       "      <td>3.17</td>\n",
       "      <td>0.250</td>\n",
       "      <td>1.82</td>\n",
       "    </tr>\n",
       "    <tr>\n",
       "      <th>...</th>\n",
       "      <td>...</td>\n",
       "      <td>...</td>\n",
       "      <td>...</td>\n",
       "      <td>...</td>\n",
       "      <td>...</td>\n",
       "      <td>...</td>\n",
       "      <td>...</td>\n",
       "    </tr>\n",
       "    <tr>\n",
       "      <th>302</th>\n",
       "      <td>-2.3</td>\n",
       "      <td>0.600</td>\n",
       "      <td>4.34</td>\n",
       "      <td>4.23</td>\n",
       "      <td>2.73</td>\n",
       "      <td>0.350</td>\n",
       "      <td>8.47</td>\n",
       "    </tr>\n",
       "    <tr>\n",
       "      <th>303</th>\n",
       "      <td>-2.3</td>\n",
       "      <td>0.600</td>\n",
       "      <td>4.34</td>\n",
       "      <td>4.23</td>\n",
       "      <td>2.73</td>\n",
       "      <td>0.375</td>\n",
       "      <td>12.27</td>\n",
       "    </tr>\n",
       "    <tr>\n",
       "      <th>304</th>\n",
       "      <td>-2.3</td>\n",
       "      <td>0.600</td>\n",
       "      <td>4.34</td>\n",
       "      <td>4.23</td>\n",
       "      <td>2.73</td>\n",
       "      <td>0.400</td>\n",
       "      <td>19.59</td>\n",
       "    </tr>\n",
       "    <tr>\n",
       "      <th>305</th>\n",
       "      <td>-2.3</td>\n",
       "      <td>0.600</td>\n",
       "      <td>4.34</td>\n",
       "      <td>4.23</td>\n",
       "      <td>2.73</td>\n",
       "      <td>0.425</td>\n",
       "      <td>30.48</td>\n",
       "    </tr>\n",
       "    <tr>\n",
       "      <th>306</th>\n",
       "      <td>-2.3</td>\n",
       "      <td>0.600</td>\n",
       "      <td>4.34</td>\n",
       "      <td>4.23</td>\n",
       "      <td>2.73</td>\n",
       "      <td>0.450</td>\n",
       "      <td>46.66</td>\n",
       "    </tr>\n",
       "  </tbody>\n",
       "</table>\n",
       "<p>307 rows × 7 columns</p>\n",
       "</div>"
      ],
      "text/plain": [
       "     -2.3  0.568  4.78  3.99  3.17  0.125   0.11\n",
       "0    -2.3  0.568  4.78  3.99  3.17  0.150   0.27\n",
       "1    -2.3  0.568  4.78  3.99  3.17  0.175   0.47\n",
       "2    -2.3  0.568  4.78  3.99  3.17  0.200   0.78\n",
       "3    -2.3  0.568  4.78  3.99  3.17  0.225   1.18\n",
       "4    -2.3  0.568  4.78  3.99  3.17  0.250   1.82\n",
       "..    ...    ...   ...   ...   ...    ...    ...\n",
       "302  -2.3  0.600  4.34  4.23  2.73  0.350   8.47\n",
       "303  -2.3  0.600  4.34  4.23  2.73  0.375  12.27\n",
       "304  -2.3  0.600  4.34  4.23  2.73  0.400  19.59\n",
       "305  -2.3  0.600  4.34  4.23  2.73  0.425  30.48\n",
       "306  -2.3  0.600  4.34  4.23  2.73  0.450  46.66\n",
       "\n",
       "[307 rows x 7 columns]"
      ]
     },
     "execution_count": 27,
     "metadata": {},
     "output_type": "execute_result"
    }
   ],
   "source": [
    "df"
   ]
  },
  {
   "cell_type": "markdown",
   "metadata": {},
   "source": [
    "#### Using Closed Form Solution"
   ]
  },
  {
   "cell_type": "code",
   "execution_count": 47,
   "metadata": {},
   "outputs": [
    {
     "name": "stdout",
     "output_type": "stream",
     "text": [
      "Matrix is Full Rank\n",
      "Matrix is not Low Rank\n",
      "Solving using Normal equation\n",
      "[11.33506977  0.47233737 -0.92950646 -1.19085431  0.67174291  0.89837645\n",
      " 13.2846523 ]\n",
      "SSE_test: 6232.46814185305\n",
      "RMSE_test: 8.186317027304659\n"
     ]
    }
   ],
   "source": [
    "lr = LinearRegression(X, y, learningRate=0.01, epsilon=0.01, maxIter=50000, regularization = True, regularizationRate=1, batch=100, optimizer = 'Normal', error='RMSE')\n",
    "lr.fit()"
   ]
  },
  {
   "cell_type": "markdown",
   "metadata": {},
   "source": [
    "#### Using Gradient Descend"
   ]
  },
  {
   "cell_type": "code",
   "execution_count": 48,
   "metadata": {},
   "outputs": [
    {
     "name": "stdout",
     "output_type": "stream",
     "text": [
      "Matrix is Full Rank\n",
      "Matrix is not Low Rank\n",
      "Solving using gradient descent\n",
      "Using Gradient Descent\n",
      "Using Regularization\n"
     ]
    },
    {
     "name": "stderr",
     "output_type": "stream",
     "text": [
      "  0%|          | 1/50000 [00:00<00:29, 1678.39it/s]\n",
      "No artists with labels found to put in legend.  Note that artists whose label start with an underscore are ignored when legend() is called with no argument.\n"
     ]
    },
    {
     "name": "stdout",
     "output_type": "stream",
     "text": [
      "Model has stopped learning\n"
     ]
    },
    {
     "data": {
      "image/png": "[encoded data removed]",
      "text/plain": [
       "<Figure size 432x288 with 1 Axes>"
      ]
     },
     "metadata": {
      "needs_background": "light"
     },
     "output_type": "display_data"
    },
    {
     "name": "stdout",
     "output_type": "stream",
     "text": [
      "[-3.56838     2.3127526   2.24892517 -3.94890181  2.40402574 -6.1178134\n",
      " -4.46270874]\n",
      "SSE_test: 47959.40958396782\n",
      "RMSE_test: 22.70886558531044\n"
     ]
    }
   ],
   "source": [
    "lr = LinearRegression(X, y, learningRate=0.01, epsilon=0.01, maxIter=50000, regularization = True, regularizationRate=1, batch=100, optimizer = 'GD', error='RMSE')\n",
    "lr.fit()"
   ]
  },
  {
   "cell_type": "markdown",
   "metadata": {},
   "source": [
    "#### using Stochiastic Gradient Descend"
   ]
  },
  {
   "cell_type": "code",
   "execution_count": 49,
   "metadata": {},
   "outputs": [
    {
     "name": "stdout",
     "output_type": "stream",
     "text": [
      "Matrix is Full Rank\n",
      "Matrix is not Low Rank\n",
      "Solving using stochastic gradient descent\n",
      "Using Stochastic Gradient Descent\n",
      "Using regularization\n"
     ]
    },
    {
     "name": "stderr",
     "output_type": "stream",
     "text": [
      "  0%|          | 5/50000 [00:00<00:12, 3922.11it/s]\n",
      "No artists with labels found to put in legend.  Note that artists whose label start with an underscore are ignored when legend() is called with no argument.\n"
     ]
    },
    {
     "name": "stdout",
     "output_type": "stream",
     "text": [
      "Model has stopped learning\n"
     ]
    },
    {
     "data": {
      "image/png": "[encoded data removed]",
      "text/plain": [
       "<Figure size 432x288 with 1 Axes>"
      ]
     },
     "metadata": {
      "needs_background": "light"
     },
     "output_type": "display_data"
    },
    {
     "name": "stdout",
     "output_type": "stream",
     "text": [
      "[10.56737179  1.38341392  0.37201462 -0.4498771  -0.27547684 -0.14335984\n",
      " 11.85511123]\n",
      "SSE_test: 8670.16867820589\n",
      "RMSE_test: 9.655445106040542\n"
     ]
    }
   ],
   "source": [
    "lr = LinearRegression(X, y, learningRate=0.01, epsilon=0.01, maxIter=50000, regularization = True, regularizationRate=1, batch=100, optimizer = 'SGD', error='RMSE')\n",
    "lr.fit()"
   ]
  },
  {
   "cell_type": "code",
   "execution_count": null,
   "metadata": {},
   "outputs": [],
   "source": []
  }
 ],
 "metadata": {
  "kernelspec": {
   "display_name": "Python 3 (ipykernel)",
   "language": "python",
   "name": "python3"
  },
  "language_info": {
   "codemirror_mode": {
    "name": "ipython",
    "version": 3
   },
   "file_extension": ".py",
   "mimetype": "text/x-python",
   "name": "python",
   "nbconvert_exporter": "python",
   "pygments_lexer": "ipython3",
   "version": "3.7.13"
  },
  "widgets": {
   "application/vnd.jupyter.widget-state+json": {
    "state": {},
    "version_major": 2,
    "version_minor": 0
   }
  }
 },
 "nbformat": 4,
 "nbformat_minor": 4
}
